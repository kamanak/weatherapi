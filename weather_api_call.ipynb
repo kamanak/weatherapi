{
 "cells": [
  {
   "cell_type": "code",
   "execution_count": 1,
   "id": "b7439109",
   "metadata": {},
   "outputs": [],
   "source": [
    "import requests"
   ]
  },
  {
   "cell_type": "code",
   "execution_count": 2,
   "id": "3a7e5fc3",
   "metadata": {},
   "outputs": [],
   "source": [
    "url = \"https://api.tomorrow.io/v4/timelines\"\n",
    "\n",
    "#location = \"47.75,-120.74\"  # washington\n",
    "location = \"36.11,-115.17\"  # las vegas\n",
    "\n",
    "querystring = {\"location\": location, \"fields\": [\"temperature\", \"humidity\", \"windSpeed\", \"windDirection\", \"windGust\", \"precipitationType\", \"solarGHI\", \"visibility\", \"weatherCode\"],\n",
    "               \"units\": \"metric\", \"timesteps\": \"1d\", \"apikey\": \"gOjK6Zg5h3i73qEiXaFoy6XKg8gh3h78\"}\n",
    "response = requests.get(url,params=querystring)"
   ]
  },
  {
   "cell_type": "code",
   "execution_count": 3,
   "id": "65cc99de",
   "metadata": {},
   "outputs": [
    {
     "data": {
      "text/plain": [
       "<Response [200]>"
      ]
     },
     "execution_count": 3,
     "metadata": {},
     "output_type": "execute_result"
    }
   ],
   "source": [
    "response"
   ]
  },
  {
   "cell_type": "code",
   "execution_count": 4,
   "id": "4acf3b59",
   "metadata": {},
   "outputs": [
    {
     "data": {
      "text/plain": [
       "200"
      ]
     },
     "execution_count": 4,
     "metadata": {},
     "output_type": "execute_result"
    }
   ],
   "source": [
    "response.status_code"
   ]
  },
  {
   "cell_type": "code",
   "execution_count": 6,
   "id": "ddd36757",
   "metadata": {},
   "outputs": [],
   "source": [
    "with open('data.txt', 'w', encoding='utf8') as f:\n",
    "    f.write(response.text)"
   ]
  },
  {
   "cell_type": "code",
   "execution_count": null,
   "id": "67871490",
   "metadata": {},
   "outputs": [],
   "source": []
  }
 ],
 "metadata": {
  "kernelspec": {
   "display_name": "Python 3 (ipykernel)",
   "language": "python",
   "name": "python3"
  },
  "language_info": {
   "codemirror_mode": {
    "name": "ipython",
    "version": 3
   },
   "file_extension": ".py",
   "mimetype": "text/x-python",
   "name": "python",
   "nbconvert_exporter": "python",
   "pygments_lexer": "ipython3",
   "version": "3.9.12"
  }
 },
 "nbformat": 4,
 "nbformat_minor": 5
}
