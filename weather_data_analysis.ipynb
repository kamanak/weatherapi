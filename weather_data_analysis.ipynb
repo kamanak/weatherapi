{
 "cells": [
  {
   "cell_type": "code",
   "execution_count": 2,
   "id": "966aa6a1",
   "metadata": {},
   "outputs": [],
   "source": [
    "import pandas as pd\n",
    "import json"
   ]
  },
  {
   "cell_type": "code",
   "execution_count": 3,
   "id": "65fe3f52",
   "metadata": {},
   "outputs": [],
   "source": [
    "with open('las_vegas.txt', 'r', encoding='utf8') as f:\n",
    "    washington = json.load(f) #loads json file as an dictionary\n",
    "with open('washington.txt', 'r', encoding='utf8') as f:\n",
    "    lasvegas = json.load(f)\n"
   ]
  },
  {
   "cell_type": "code",
   "execution_count": 4,
   "id": "c6fd48bb",
   "metadata": {},
   "outputs": [
    {
     "data": {
      "text/plain": [
       "{'data': {'timelines': [{'timestep': '1d',\n",
       "    'endTime': '2022-06-16T13:00:00Z',\n",
       "    'startTime': '2022-06-02T13:00:00Z',\n",
       "    'intervals': [{'startTime': '2022-06-02T13:00:00Z',\n",
       "      'values': {'humidity': 15.48,\n",
       "       'precipitationType': 0,\n",
       "       'solarGHI': 1052.38,\n",
       "       'temperature': 36.63,\n",
       "       'visibility': 16.09,\n",
       "       'weatherCode': 1000,\n",
       "       'windDirection': 168.59,\n",
       "       'windGust': 7.19,\n",
       "       'windSpeed': 5.31}},\n",
       "     {'startTime': '2022-06-03T13:00:00Z',\n",
       "      'values': {'humidity': 30.71,\n",
       "       'precipitationType': 0,\n",
       "       'solarGHI': 1034.39,\n",
       "       'temperature': 37.12,\n",
       "       'visibility': 16,\n",
       "       'weatherCode': 1001,\n",
       "       'windDirection': 210.84,\n",
       "       'windGust': 12.82,\n",
       "       'windSpeed': 7.95}},\n",
       "     {'startTime': '2022-06-04T13:00:00Z',\n",
       "      'values': {'humidity': 28.18,\n",
       "       'precipitationType': 0,\n",
       "       'solarGHI': 922.74,\n",
       "       'temperature': 33.73,\n",
       "       'visibility': 16,\n",
       "       'weatherCode': 1001,\n",
       "       'windDirection': 214.16,\n",
       "       'windGust': 14.29,\n",
       "       'windSpeed': 8.94}},\n",
       "     {'startTime': '2022-06-05T13:00:00Z',\n",
       "      'values': {'humidity': 36.16,\n",
       "       'precipitationType': 0,\n",
       "       'solarGHI': 960.28,\n",
       "       'temperature': 37.66,\n",
       "       'visibility': 23.46,\n",
       "       'weatherCode': 1001,\n",
       "       'windDirection': 177.05,\n",
       "       'windGust': 10.57,\n",
       "       'windSpeed': 7.2}},\n",
       "     {'startTime': '2022-06-06T13:00:00Z',\n",
       "      'values': {'humidity': 35.99,\n",
       "       'precipitationType': 0,\n",
       "       'solarGHI': 1016.72,\n",
       "       'temperature': 36.14,\n",
       "       'visibility': 24.14,\n",
       "       'weatherCode': 1000,\n",
       "       'windDirection': 153.96,\n",
       "       'windGust': 8.1,\n",
       "       'windSpeed': 7.62}},\n",
       "     {'startTime': '2022-06-07T13:00:00Z',\n",
       "      'values': {'humidity': 20.86,\n",
       "       'precipitationType': 0,\n",
       "       'solarGHI': 995.83,\n",
       "       'temperature': 38.83,\n",
       "       'visibility': 24.14,\n",
       "       'weatherCode': 1100,\n",
       "       'windDirection': 140.08,\n",
       "       'windGust': 9.67,\n",
       "       'windSpeed': 7.3}},\n",
       "     {'startTime': '2022-06-08T13:00:00Z',\n",
       "      'values': {'humidity': 20.15,\n",
       "       'precipitationType': 0,\n",
       "       'solarGHI': 768.7,\n",
       "       'temperature': 38.37,\n",
       "       'visibility': 24.14,\n",
       "       'weatherCode': 1100,\n",
       "       'windDirection': 145.47,\n",
       "       'windGust': 6.34,\n",
       "       'windSpeed': 6.23}},\n",
       "     {'startTime': '2022-06-09T13:00:00Z',\n",
       "      'values': {'humidity': 18.08,\n",
       "       'precipitationType': 0,\n",
       "       'solarGHI': 1005.33,\n",
       "       'temperature': 39.99,\n",
       "       'visibility': 24.14,\n",
       "       'weatherCode': 1000,\n",
       "       'windDirection': 103.84,\n",
       "       'windGust': 5.75,\n",
       "       'windSpeed': 4.51}},\n",
       "     {'startTime': '2022-06-10T13:00:00Z',\n",
       "      'values': {'humidity': 10.92,\n",
       "       'precipitationType': 0,\n",
       "       'solarGHI': 1015.84,\n",
       "       'temperature': 42.42,\n",
       "       'visibility': 24.14,\n",
       "       'weatherCode': 1000,\n",
       "       'windDirection': 136.28,\n",
       "       'windGust': 4.89,\n",
       "       'windSpeed': 3.92}},\n",
       "     {'startTime': '2022-06-11T13:00:00Z',\n",
       "      'values': {'humidity': 11.51,\n",
       "       'precipitationType': 0,\n",
       "       'solarGHI': 1007.16,\n",
       "       'temperature': 44.1,\n",
       "       'visibility': 24.14,\n",
       "       'weatherCode': 1000,\n",
       "       'windDirection': 169.68,\n",
       "       'windGust': 10.8,\n",
       "       'windSpeed': 8.68}},\n",
       "     {'startTime': '2022-06-12T13:00:00Z',\n",
       "      'values': {'humidity': 20.39,\n",
       "       'precipitationType': 0,\n",
       "       'solarGHI': 1028.37,\n",
       "       'temperature': 42.14,\n",
       "       'visibility': 24.14,\n",
       "       'weatherCode': 1000,\n",
       "       'windDirection': 218.46,\n",
       "       'windGust': 15.89,\n",
       "       'windSpeed': 12.14}},\n",
       "     {'startTime': '2022-06-13T13:00:00Z',\n",
       "      'values': {'humidity': 17.06,\n",
       "       'precipitationType': 0,\n",
       "       'solarGHI': 1012.32,\n",
       "       'temperature': 38.93,\n",
       "       'visibility': 24.14,\n",
       "       'weatherCode': 1000,\n",
       "       'windDirection': 231.96,\n",
       "       'windGust': 6.98,\n",
       "       'windSpeed': 5.48}},\n",
       "     {'startTime': '2022-06-14T13:00:00Z',\n",
       "      'values': {'humidity': 11.53,\n",
       "       'precipitationType': 0,\n",
       "       'solarGHI': 1029.09,\n",
       "       'temperature': 37.57,\n",
       "       'visibility': 24.14,\n",
       "       'weatherCode': 1000,\n",
       "       'windDirection': 123.8,\n",
       "       'windGust': 5.51,\n",
       "       'windSpeed': 3.8}},\n",
       "     {'startTime': '2022-06-15T13:00:00Z',\n",
       "      'values': {'humidity': 11.45,\n",
       "       'precipitationType': 0,\n",
       "       'solarGHI': 1022.76,\n",
       "       'temperature': 38.29,\n",
       "       'visibility': 24.14,\n",
       "       'weatherCode': 1000,\n",
       "       'windDirection': 112.02,\n",
       "       'windGust': 6.32,\n",
       "       'windSpeed': 6.32}},\n",
       "     {'startTime': '2022-06-16T13:00:00Z',\n",
       "      'values': {'humidity': 9.47,\n",
       "       'precipitationType': 0,\n",
       "       'solarGHI': 1030.37,\n",
       "       'temperature': 41.04,\n",
       "       'visibility': 24.14,\n",
       "       'weatherCode': 1000,\n",
       "       'windDirection': 93.58,\n",
       "       'windGust': 6.44,\n",
       "       'windSpeed': 6.44}}]}]}}"
      ]
     },
     "execution_count": 4,
     "metadata": {},
     "output_type": "execute_result"
    }
   ],
   "source": [
    "washington"
   ]
  },
  {
   "cell_type": "code",
   "execution_count": 5,
   "id": "977ab9d3",
   "metadata": {},
   "outputs": [],
   "source": [
    "intervals = washington['data']['timelines'][0]['intervals']"
   ]
  },
  {
   "cell_type": "code",
   "execution_count": 6,
   "id": "78871ef8",
   "metadata": {},
   "outputs": [
    {
     "data": {
      "text/plain": [
       "[{'startTime': '2022-06-02T13:00:00Z',\n",
       "  'values': {'humidity': 15.48,\n",
       "   'precipitationType': 0,\n",
       "   'solarGHI': 1052.38,\n",
       "   'temperature': 36.63,\n",
       "   'visibility': 16.09,\n",
       "   'weatherCode': 1000,\n",
       "   'windDirection': 168.59,\n",
       "   'windGust': 7.19,\n",
       "   'windSpeed': 5.31}},\n",
       " {'startTime': '2022-06-03T13:00:00Z',\n",
       "  'values': {'humidity': 30.71,\n",
       "   'precipitationType': 0,\n",
       "   'solarGHI': 1034.39,\n",
       "   'temperature': 37.12,\n",
       "   'visibility': 16,\n",
       "   'weatherCode': 1001,\n",
       "   'windDirection': 210.84,\n",
       "   'windGust': 12.82,\n",
       "   'windSpeed': 7.95}},\n",
       " {'startTime': '2022-06-04T13:00:00Z',\n",
       "  'values': {'humidity': 28.18,\n",
       "   'precipitationType': 0,\n",
       "   'solarGHI': 922.74,\n",
       "   'temperature': 33.73,\n",
       "   'visibility': 16,\n",
       "   'weatherCode': 1001,\n",
       "   'windDirection': 214.16,\n",
       "   'windGust': 14.29,\n",
       "   'windSpeed': 8.94}},\n",
       " {'startTime': '2022-06-05T13:00:00Z',\n",
       "  'values': {'humidity': 36.16,\n",
       "   'precipitationType': 0,\n",
       "   'solarGHI': 960.28,\n",
       "   'temperature': 37.66,\n",
       "   'visibility': 23.46,\n",
       "   'weatherCode': 1001,\n",
       "   'windDirection': 177.05,\n",
       "   'windGust': 10.57,\n",
       "   'windSpeed': 7.2}},\n",
       " {'startTime': '2022-06-06T13:00:00Z',\n",
       "  'values': {'humidity': 35.99,\n",
       "   'precipitationType': 0,\n",
       "   'solarGHI': 1016.72,\n",
       "   'temperature': 36.14,\n",
       "   'visibility': 24.14,\n",
       "   'weatherCode': 1000,\n",
       "   'windDirection': 153.96,\n",
       "   'windGust': 8.1,\n",
       "   'windSpeed': 7.62}},\n",
       " {'startTime': '2022-06-07T13:00:00Z',\n",
       "  'values': {'humidity': 20.86,\n",
       "   'precipitationType': 0,\n",
       "   'solarGHI': 995.83,\n",
       "   'temperature': 38.83,\n",
       "   'visibility': 24.14,\n",
       "   'weatherCode': 1100,\n",
       "   'windDirection': 140.08,\n",
       "   'windGust': 9.67,\n",
       "   'windSpeed': 7.3}},\n",
       " {'startTime': '2022-06-08T13:00:00Z',\n",
       "  'values': {'humidity': 20.15,\n",
       "   'precipitationType': 0,\n",
       "   'solarGHI': 768.7,\n",
       "   'temperature': 38.37,\n",
       "   'visibility': 24.14,\n",
       "   'weatherCode': 1100,\n",
       "   'windDirection': 145.47,\n",
       "   'windGust': 6.34,\n",
       "   'windSpeed': 6.23}},\n",
       " {'startTime': '2022-06-09T13:00:00Z',\n",
       "  'values': {'humidity': 18.08,\n",
       "   'precipitationType': 0,\n",
       "   'solarGHI': 1005.33,\n",
       "   'temperature': 39.99,\n",
       "   'visibility': 24.14,\n",
       "   'weatherCode': 1000,\n",
       "   'windDirection': 103.84,\n",
       "   'windGust': 5.75,\n",
       "   'windSpeed': 4.51}},\n",
       " {'startTime': '2022-06-10T13:00:00Z',\n",
       "  'values': {'humidity': 10.92,\n",
       "   'precipitationType': 0,\n",
       "   'solarGHI': 1015.84,\n",
       "   'temperature': 42.42,\n",
       "   'visibility': 24.14,\n",
       "   'weatherCode': 1000,\n",
       "   'windDirection': 136.28,\n",
       "   'windGust': 4.89,\n",
       "   'windSpeed': 3.92}},\n",
       " {'startTime': '2022-06-11T13:00:00Z',\n",
       "  'values': {'humidity': 11.51,\n",
       "   'precipitationType': 0,\n",
       "   'solarGHI': 1007.16,\n",
       "   'temperature': 44.1,\n",
       "   'visibility': 24.14,\n",
       "   'weatherCode': 1000,\n",
       "   'windDirection': 169.68,\n",
       "   'windGust': 10.8,\n",
       "   'windSpeed': 8.68}},\n",
       " {'startTime': '2022-06-12T13:00:00Z',\n",
       "  'values': {'humidity': 20.39,\n",
       "   'precipitationType': 0,\n",
       "   'solarGHI': 1028.37,\n",
       "   'temperature': 42.14,\n",
       "   'visibility': 24.14,\n",
       "   'weatherCode': 1000,\n",
       "   'windDirection': 218.46,\n",
       "   'windGust': 15.89,\n",
       "   'windSpeed': 12.14}},\n",
       " {'startTime': '2022-06-13T13:00:00Z',\n",
       "  'values': {'humidity': 17.06,\n",
       "   'precipitationType': 0,\n",
       "   'solarGHI': 1012.32,\n",
       "   'temperature': 38.93,\n",
       "   'visibility': 24.14,\n",
       "   'weatherCode': 1000,\n",
       "   'windDirection': 231.96,\n",
       "   'windGust': 6.98,\n",
       "   'windSpeed': 5.48}},\n",
       " {'startTime': '2022-06-14T13:00:00Z',\n",
       "  'values': {'humidity': 11.53,\n",
       "   'precipitationType': 0,\n",
       "   'solarGHI': 1029.09,\n",
       "   'temperature': 37.57,\n",
       "   'visibility': 24.14,\n",
       "   'weatherCode': 1000,\n",
       "   'windDirection': 123.8,\n",
       "   'windGust': 5.51,\n",
       "   'windSpeed': 3.8}},\n",
       " {'startTime': '2022-06-15T13:00:00Z',\n",
       "  'values': {'humidity': 11.45,\n",
       "   'precipitationType': 0,\n",
       "   'solarGHI': 1022.76,\n",
       "   'temperature': 38.29,\n",
       "   'visibility': 24.14,\n",
       "   'weatherCode': 1000,\n",
       "   'windDirection': 112.02,\n",
       "   'windGust': 6.32,\n",
       "   'windSpeed': 6.32}},\n",
       " {'startTime': '2022-06-16T13:00:00Z',\n",
       "  'values': {'humidity': 9.47,\n",
       "   'precipitationType': 0,\n",
       "   'solarGHI': 1030.37,\n",
       "   'temperature': 41.04,\n",
       "   'visibility': 24.14,\n",
       "   'weatherCode': 1000,\n",
       "   'windDirection': 93.58,\n",
       "   'windGust': 6.44,\n",
       "   'windSpeed': 6.44}}]"
      ]
     },
     "execution_count": 6,
     "metadata": {},
     "output_type": "execute_result"
    }
   ],
   "source": [
    "intervals"
   ]
  },
  {
   "cell_type": "code",
   "execution_count": 7,
   "id": "cc18f64e",
   "metadata": {},
   "outputs": [
    {
     "data": {
      "text/plain": [
       "{'humidity': 15.48,\n",
       " 'precipitationType': 0,\n",
       " 'solarGHI': 1052.38,\n",
       " 'temperature': 36.63,\n",
       " 'visibility': 16.09,\n",
       " 'weatherCode': 1000,\n",
       " 'windDirection': 168.59,\n",
       " 'windGust': 7.19,\n",
       " 'windSpeed': 5.31}"
      ]
     },
     "execution_count": 7,
     "metadata": {},
     "output_type": "execute_result"
    }
   ],
   "source": [
    "washington['data']['timelines'][0]['intervals'][0]['values']"
   ]
  },
  {
   "cell_type": "code",
   "execution_count": 8,
   "id": "cf4cb5f9",
   "metadata": {},
   "outputs": [
    {
     "name": "stdout",
     "output_type": "stream",
     "text": [
      "[{'humidity': 15.48, 'precipitationType': 0, 'solarGHI': 1052.38, 'temperature': 36.63, 'visibility': 16.09, 'weatherCode': 1000, 'windDirection': 168.59, 'windGust': 7.19, 'windSpeed': 5.31}, {'humidity': 30.71, 'precipitationType': 0, 'solarGHI': 1034.39, 'temperature': 37.12, 'visibility': 16, 'weatherCode': 1001, 'windDirection': 210.84, 'windGust': 12.82, 'windSpeed': 7.95}, {'humidity': 28.18, 'precipitationType': 0, 'solarGHI': 922.74, 'temperature': 33.73, 'visibility': 16, 'weatherCode': 1001, 'windDirection': 214.16, 'windGust': 14.29, 'windSpeed': 8.94}, {'humidity': 36.16, 'precipitationType': 0, 'solarGHI': 960.28, 'temperature': 37.66, 'visibility': 23.46, 'weatherCode': 1001, 'windDirection': 177.05, 'windGust': 10.57, 'windSpeed': 7.2}, {'humidity': 35.99, 'precipitationType': 0, 'solarGHI': 1016.72, 'temperature': 36.14, 'visibility': 24.14, 'weatherCode': 1000, 'windDirection': 153.96, 'windGust': 8.1, 'windSpeed': 7.62}, {'humidity': 20.86, 'precipitationType': 0, 'solarGHI': 995.83, 'temperature': 38.83, 'visibility': 24.14, 'weatherCode': 1100, 'windDirection': 140.08, 'windGust': 9.67, 'windSpeed': 7.3}, {'humidity': 20.15, 'precipitationType': 0, 'solarGHI': 768.7, 'temperature': 38.37, 'visibility': 24.14, 'weatherCode': 1100, 'windDirection': 145.47, 'windGust': 6.34, 'windSpeed': 6.23}, {'humidity': 18.08, 'precipitationType': 0, 'solarGHI': 1005.33, 'temperature': 39.99, 'visibility': 24.14, 'weatherCode': 1000, 'windDirection': 103.84, 'windGust': 5.75, 'windSpeed': 4.51}, {'humidity': 10.92, 'precipitationType': 0, 'solarGHI': 1015.84, 'temperature': 42.42, 'visibility': 24.14, 'weatherCode': 1000, 'windDirection': 136.28, 'windGust': 4.89, 'windSpeed': 3.92}, {'humidity': 11.51, 'precipitationType': 0, 'solarGHI': 1007.16, 'temperature': 44.1, 'visibility': 24.14, 'weatherCode': 1000, 'windDirection': 169.68, 'windGust': 10.8, 'windSpeed': 8.68}, {'humidity': 20.39, 'precipitationType': 0, 'solarGHI': 1028.37, 'temperature': 42.14, 'visibility': 24.14, 'weatherCode': 1000, 'windDirection': 218.46, 'windGust': 15.89, 'windSpeed': 12.14}, {'humidity': 17.06, 'precipitationType': 0, 'solarGHI': 1012.32, 'temperature': 38.93, 'visibility': 24.14, 'weatherCode': 1000, 'windDirection': 231.96, 'windGust': 6.98, 'windSpeed': 5.48}, {'humidity': 11.53, 'precipitationType': 0, 'solarGHI': 1029.09, 'temperature': 37.57, 'visibility': 24.14, 'weatherCode': 1000, 'windDirection': 123.8, 'windGust': 5.51, 'windSpeed': 3.8}, {'humidity': 11.45, 'precipitationType': 0, 'solarGHI': 1022.76, 'temperature': 38.29, 'visibility': 24.14, 'weatherCode': 1000, 'windDirection': 112.02, 'windGust': 6.32, 'windSpeed': 6.32}, {'humidity': 9.47, 'precipitationType': 0, 'solarGHI': 1030.37, 'temperature': 41.04, 'visibility': 24.14, 'weatherCode': 1000, 'windDirection': 93.58, 'windGust': 6.44, 'windSpeed': 6.44}]\n"
     ]
    }
   ],
   "source": [
    "print(([x['values'] for x in intervals]))"
   ]
  },
  {
   "cell_type": "code",
   "execution_count": 9,
   "id": "dffd6a9c",
   "metadata": {},
   "outputs": [
    {
     "data": {
      "text/html": [
       "<div>\n",
       "<style scoped>\n",
       "    .dataframe tbody tr th:only-of-type {\n",
       "        vertical-align: middle;\n",
       "    }\n",
       "\n",
       "    .dataframe tbody tr th {\n",
       "        vertical-align: top;\n",
       "    }\n",
       "\n",
       "    .dataframe thead th {\n",
       "        text-align: right;\n",
       "    }\n",
       "</style>\n",
       "<table border=\"1\" class=\"dataframe\">\n",
       "  <thead>\n",
       "    <tr style=\"text-align: right;\">\n",
       "      <th></th>\n",
       "      <th>humidity</th>\n",
       "      <th>precipitationType</th>\n",
       "      <th>solarGHI</th>\n",
       "      <th>temperature</th>\n",
       "      <th>visibility</th>\n",
       "      <th>weatherCode</th>\n",
       "      <th>windDirection</th>\n",
       "      <th>windGust</th>\n",
       "      <th>windSpeed</th>\n",
       "    </tr>\n",
       "  </thead>\n",
       "  <tbody>\n",
       "    <tr>\n",
       "      <th>0</th>\n",
       "      <td>15.48</td>\n",
       "      <td>0</td>\n",
       "      <td>1052.38</td>\n",
       "      <td>36.63</td>\n",
       "      <td>16.09</td>\n",
       "      <td>1000</td>\n",
       "      <td>168.59</td>\n",
       "      <td>7.19</td>\n",
       "      <td>5.31</td>\n",
       "    </tr>\n",
       "    <tr>\n",
       "      <th>1</th>\n",
       "      <td>30.71</td>\n",
       "      <td>0</td>\n",
       "      <td>1034.39</td>\n",
       "      <td>37.12</td>\n",
       "      <td>16.00</td>\n",
       "      <td>1001</td>\n",
       "      <td>210.84</td>\n",
       "      <td>12.82</td>\n",
       "      <td>7.95</td>\n",
       "    </tr>\n",
       "    <tr>\n",
       "      <th>2</th>\n",
       "      <td>28.18</td>\n",
       "      <td>0</td>\n",
       "      <td>922.74</td>\n",
       "      <td>33.73</td>\n",
       "      <td>16.00</td>\n",
       "      <td>1001</td>\n",
       "      <td>214.16</td>\n",
       "      <td>14.29</td>\n",
       "      <td>8.94</td>\n",
       "    </tr>\n",
       "    <tr>\n",
       "      <th>3</th>\n",
       "      <td>36.16</td>\n",
       "      <td>0</td>\n",
       "      <td>960.28</td>\n",
       "      <td>37.66</td>\n",
       "      <td>23.46</td>\n",
       "      <td>1001</td>\n",
       "      <td>177.05</td>\n",
       "      <td>10.57</td>\n",
       "      <td>7.20</td>\n",
       "    </tr>\n",
       "    <tr>\n",
       "      <th>4</th>\n",
       "      <td>35.99</td>\n",
       "      <td>0</td>\n",
       "      <td>1016.72</td>\n",
       "      <td>36.14</td>\n",
       "      <td>24.14</td>\n",
       "      <td>1000</td>\n",
       "      <td>153.96</td>\n",
       "      <td>8.10</td>\n",
       "      <td>7.62</td>\n",
       "    </tr>\n",
       "    <tr>\n",
       "      <th>5</th>\n",
       "      <td>20.86</td>\n",
       "      <td>0</td>\n",
       "      <td>995.83</td>\n",
       "      <td>38.83</td>\n",
       "      <td>24.14</td>\n",
       "      <td>1100</td>\n",
       "      <td>140.08</td>\n",
       "      <td>9.67</td>\n",
       "      <td>7.30</td>\n",
       "    </tr>\n",
       "    <tr>\n",
       "      <th>6</th>\n",
       "      <td>20.15</td>\n",
       "      <td>0</td>\n",
       "      <td>768.70</td>\n",
       "      <td>38.37</td>\n",
       "      <td>24.14</td>\n",
       "      <td>1100</td>\n",
       "      <td>145.47</td>\n",
       "      <td>6.34</td>\n",
       "      <td>6.23</td>\n",
       "    </tr>\n",
       "    <tr>\n",
       "      <th>7</th>\n",
       "      <td>18.08</td>\n",
       "      <td>0</td>\n",
       "      <td>1005.33</td>\n",
       "      <td>39.99</td>\n",
       "      <td>24.14</td>\n",
       "      <td>1000</td>\n",
       "      <td>103.84</td>\n",
       "      <td>5.75</td>\n",
       "      <td>4.51</td>\n",
       "    </tr>\n",
       "    <tr>\n",
       "      <th>8</th>\n",
       "      <td>10.92</td>\n",
       "      <td>0</td>\n",
       "      <td>1015.84</td>\n",
       "      <td>42.42</td>\n",
       "      <td>24.14</td>\n",
       "      <td>1000</td>\n",
       "      <td>136.28</td>\n",
       "      <td>4.89</td>\n",
       "      <td>3.92</td>\n",
       "    </tr>\n",
       "    <tr>\n",
       "      <th>9</th>\n",
       "      <td>11.51</td>\n",
       "      <td>0</td>\n",
       "      <td>1007.16</td>\n",
       "      <td>44.10</td>\n",
       "      <td>24.14</td>\n",
       "      <td>1000</td>\n",
       "      <td>169.68</td>\n",
       "      <td>10.80</td>\n",
       "      <td>8.68</td>\n",
       "    </tr>\n",
       "    <tr>\n",
       "      <th>10</th>\n",
       "      <td>20.39</td>\n",
       "      <td>0</td>\n",
       "      <td>1028.37</td>\n",
       "      <td>42.14</td>\n",
       "      <td>24.14</td>\n",
       "      <td>1000</td>\n",
       "      <td>218.46</td>\n",
       "      <td>15.89</td>\n",
       "      <td>12.14</td>\n",
       "    </tr>\n",
       "    <tr>\n",
       "      <th>11</th>\n",
       "      <td>17.06</td>\n",
       "      <td>0</td>\n",
       "      <td>1012.32</td>\n",
       "      <td>38.93</td>\n",
       "      <td>24.14</td>\n",
       "      <td>1000</td>\n",
       "      <td>231.96</td>\n",
       "      <td>6.98</td>\n",
       "      <td>5.48</td>\n",
       "    </tr>\n",
       "    <tr>\n",
       "      <th>12</th>\n",
       "      <td>11.53</td>\n",
       "      <td>0</td>\n",
       "      <td>1029.09</td>\n",
       "      <td>37.57</td>\n",
       "      <td>24.14</td>\n",
       "      <td>1000</td>\n",
       "      <td>123.80</td>\n",
       "      <td>5.51</td>\n",
       "      <td>3.80</td>\n",
       "    </tr>\n",
       "    <tr>\n",
       "      <th>13</th>\n",
       "      <td>11.45</td>\n",
       "      <td>0</td>\n",
       "      <td>1022.76</td>\n",
       "      <td>38.29</td>\n",
       "      <td>24.14</td>\n",
       "      <td>1000</td>\n",
       "      <td>112.02</td>\n",
       "      <td>6.32</td>\n",
       "      <td>6.32</td>\n",
       "    </tr>\n",
       "    <tr>\n",
       "      <th>14</th>\n",
       "      <td>9.47</td>\n",
       "      <td>0</td>\n",
       "      <td>1030.37</td>\n",
       "      <td>41.04</td>\n",
       "      <td>24.14</td>\n",
       "      <td>1000</td>\n",
       "      <td>93.58</td>\n",
       "      <td>6.44</td>\n",
       "      <td>6.44</td>\n",
       "    </tr>\n",
       "  </tbody>\n",
       "</table>\n",
       "</div>"
      ],
      "text/plain": [
       "    humidity  precipitationType  solarGHI  temperature  visibility  \\\n",
       "0      15.48                  0   1052.38        36.63       16.09   \n",
       "1      30.71                  0   1034.39        37.12       16.00   \n",
       "2      28.18                  0    922.74        33.73       16.00   \n",
       "3      36.16                  0    960.28        37.66       23.46   \n",
       "4      35.99                  0   1016.72        36.14       24.14   \n",
       "5      20.86                  0    995.83        38.83       24.14   \n",
       "6      20.15                  0    768.70        38.37       24.14   \n",
       "7      18.08                  0   1005.33        39.99       24.14   \n",
       "8      10.92                  0   1015.84        42.42       24.14   \n",
       "9      11.51                  0   1007.16        44.10       24.14   \n",
       "10     20.39                  0   1028.37        42.14       24.14   \n",
       "11     17.06                  0   1012.32        38.93       24.14   \n",
       "12     11.53                  0   1029.09        37.57       24.14   \n",
       "13     11.45                  0   1022.76        38.29       24.14   \n",
       "14      9.47                  0   1030.37        41.04       24.14   \n",
       "\n",
       "    weatherCode  windDirection  windGust  windSpeed  \n",
       "0          1000         168.59      7.19       5.31  \n",
       "1          1001         210.84     12.82       7.95  \n",
       "2          1001         214.16     14.29       8.94  \n",
       "3          1001         177.05     10.57       7.20  \n",
       "4          1000         153.96      8.10       7.62  \n",
       "5          1100         140.08      9.67       7.30  \n",
       "6          1100         145.47      6.34       6.23  \n",
       "7          1000         103.84      5.75       4.51  \n",
       "8          1000         136.28      4.89       3.92  \n",
       "9          1000         169.68     10.80       8.68  \n",
       "10         1000         218.46     15.89      12.14  \n",
       "11         1000         231.96      6.98       5.48  \n",
       "12         1000         123.80      5.51       3.80  \n",
       "13         1000         112.02      6.32       6.32  \n",
       "14         1000          93.58      6.44       6.44  "
      ]
     },
     "execution_count": 9,
     "metadata": {},
     "output_type": "execute_result"
    }
   ],
   "source": [
    "washington_df = pd.DataFrame([x['values'] for x in intervals])\n",
    "washington_df"
   ]
  },
  {
   "cell_type": "code",
   "execution_count": 20,
   "id": "2d3ad95d",
   "metadata": {},
   "outputs": [
    {
     "data": {
      "text/html": [
       "<div>\n",
       "<style scoped>\n",
       "    .dataframe tbody tr th:only-of-type {\n",
       "        vertical-align: middle;\n",
       "    }\n",
       "\n",
       "    .dataframe tbody tr th {\n",
       "        vertical-align: top;\n",
       "    }\n",
       "\n",
       "    .dataframe thead th {\n",
       "        text-align: right;\n",
       "    }\n",
       "</style>\n",
       "<table border=\"1\" class=\"dataframe\">\n",
       "  <thead>\n",
       "    <tr style=\"text-align: right;\">\n",
       "      <th></th>\n",
       "      <th>humidity</th>\n",
       "      <th>precipitationType</th>\n",
       "      <th>solarGHI</th>\n",
       "      <th>temperature</th>\n",
       "      <th>visibility</th>\n",
       "      <th>weatherCode</th>\n",
       "      <th>windDirection</th>\n",
       "      <th>windGust</th>\n",
       "      <th>windSpeed</th>\n",
       "    </tr>\n",
       "  </thead>\n",
       "  <tbody>\n",
       "    <tr>\n",
       "      <th>0</th>\n",
       "      <td>77.00</td>\n",
       "      <td>1</td>\n",
       "      <td>496.50</td>\n",
       "      <td>21.38</td>\n",
       "      <td>16.00</td>\n",
       "      <td>1001</td>\n",
       "      <td>226.39</td>\n",
       "      <td>4.81</td>\n",
       "      <td>3.00</td>\n",
       "    </tr>\n",
       "    <tr>\n",
       "      <th>1</th>\n",
       "      <td>99.50</td>\n",
       "      <td>1</td>\n",
       "      <td>766.88</td>\n",
       "      <td>15.96</td>\n",
       "      <td>16.00</td>\n",
       "      <td>1001</td>\n",
       "      <td>258.73</td>\n",
       "      <td>11.18</td>\n",
       "      <td>5.51</td>\n",
       "    </tr>\n",
       "    <tr>\n",
       "      <th>2</th>\n",
       "      <td>94.40</td>\n",
       "      <td>1</td>\n",
       "      <td>646.26</td>\n",
       "      <td>16.09</td>\n",
       "      <td>16.00</td>\n",
       "      <td>1001</td>\n",
       "      <td>153.15</td>\n",
       "      <td>6.74</td>\n",
       "      <td>1.85</td>\n",
       "    </tr>\n",
       "    <tr>\n",
       "      <th>3</th>\n",
       "      <td>93.30</td>\n",
       "      <td>1</td>\n",
       "      <td>546.70</td>\n",
       "      <td>14.40</td>\n",
       "      <td>23.19</td>\n",
       "      <td>1001</td>\n",
       "      <td>242.15</td>\n",
       "      <td>9.65</td>\n",
       "      <td>3.21</td>\n",
       "    </tr>\n",
       "    <tr>\n",
       "      <th>4</th>\n",
       "      <td>96.26</td>\n",
       "      <td>1</td>\n",
       "      <td>904.20</td>\n",
       "      <td>14.09</td>\n",
       "      <td>24.14</td>\n",
       "      <td>1101</td>\n",
       "      <td>292.69</td>\n",
       "      <td>6.57</td>\n",
       "      <td>5.23</td>\n",
       "    </tr>\n",
       "    <tr>\n",
       "      <th>5</th>\n",
       "      <td>93.92</td>\n",
       "      <td>1</td>\n",
       "      <td>924.01</td>\n",
       "      <td>17.97</td>\n",
       "      <td>24.14</td>\n",
       "      <td>1001</td>\n",
       "      <td>190.49</td>\n",
       "      <td>3.96</td>\n",
       "      <td>3.96</td>\n",
       "    </tr>\n",
       "    <tr>\n",
       "      <th>6</th>\n",
       "      <td>91.16</td>\n",
       "      <td>1</td>\n",
       "      <td>911.96</td>\n",
       "      <td>16.05</td>\n",
       "      <td>24.14</td>\n",
       "      <td>1001</td>\n",
       "      <td>286.73</td>\n",
       "      <td>6.97</td>\n",
       "      <td>4.27</td>\n",
       "    </tr>\n",
       "    <tr>\n",
       "      <th>7</th>\n",
       "      <td>69.74</td>\n",
       "      <td>1</td>\n",
       "      <td>871.84</td>\n",
       "      <td>22.44</td>\n",
       "      <td>24.14</td>\n",
       "      <td>1001</td>\n",
       "      <td>227.25</td>\n",
       "      <td>2.93</td>\n",
       "      <td>2.44</td>\n",
       "    </tr>\n",
       "    <tr>\n",
       "      <th>8</th>\n",
       "      <td>70.87</td>\n",
       "      <td>1</td>\n",
       "      <td>822.53</td>\n",
       "      <td>26.12</td>\n",
       "      <td>24.14</td>\n",
       "      <td>1001</td>\n",
       "      <td>292.24</td>\n",
       "      <td>7.36</td>\n",
       "      <td>3.76</td>\n",
       "    </tr>\n",
       "    <tr>\n",
       "      <th>9</th>\n",
       "      <td>96.31</td>\n",
       "      <td>1</td>\n",
       "      <td>920.73</td>\n",
       "      <td>28.96</td>\n",
       "      <td>24.14</td>\n",
       "      <td>1000</td>\n",
       "      <td>244.56</td>\n",
       "      <td>5.62</td>\n",
       "      <td>3.63</td>\n",
       "    </tr>\n",
       "    <tr>\n",
       "      <th>10</th>\n",
       "      <td>94.64</td>\n",
       "      <td>1</td>\n",
       "      <td>932.25</td>\n",
       "      <td>16.00</td>\n",
       "      <td>24.14</td>\n",
       "      <td>1001</td>\n",
       "      <td>280.11</td>\n",
       "      <td>10.35</td>\n",
       "      <td>5.88</td>\n",
       "    </tr>\n",
       "    <tr>\n",
       "      <th>11</th>\n",
       "      <td>89.80</td>\n",
       "      <td>1</td>\n",
       "      <td>829.06</td>\n",
       "      <td>10.50</td>\n",
       "      <td>23.89</td>\n",
       "      <td>1100</td>\n",
       "      <td>282.98</td>\n",
       "      <td>9.53</td>\n",
       "      <td>5.12</td>\n",
       "    </tr>\n",
       "    <tr>\n",
       "      <th>12</th>\n",
       "      <td>96.14</td>\n",
       "      <td>0</td>\n",
       "      <td>942.28</td>\n",
       "      <td>13.00</td>\n",
       "      <td>24.14</td>\n",
       "      <td>1100</td>\n",
       "      <td>283.55</td>\n",
       "      <td>8.51</td>\n",
       "      <td>4.96</td>\n",
       "    </tr>\n",
       "    <tr>\n",
       "      <th>13</th>\n",
       "      <td>88.06</td>\n",
       "      <td>0</td>\n",
       "      <td>912.85</td>\n",
       "      <td>19.85</td>\n",
       "      <td>24.14</td>\n",
       "      <td>1100</td>\n",
       "      <td>295.49</td>\n",
       "      <td>4.43</td>\n",
       "      <td>3.52</td>\n",
       "    </tr>\n",
       "    <tr>\n",
       "      <th>14</th>\n",
       "      <td>54.73</td>\n",
       "      <td>0</td>\n",
       "      <td>922.94</td>\n",
       "      <td>21.98</td>\n",
       "      <td>24.14</td>\n",
       "      <td>1102</td>\n",
       "      <td>124.81</td>\n",
       "      <td>3.56</td>\n",
       "      <td>3.56</td>\n",
       "    </tr>\n",
       "  </tbody>\n",
       "</table>\n",
       "</div>"
      ],
      "text/plain": [
       "    humidity  precipitationType  solarGHI  temperature  visibility  \\\n",
       "0      77.00                  1    496.50        21.38       16.00   \n",
       "1      99.50                  1    766.88        15.96       16.00   \n",
       "2      94.40                  1    646.26        16.09       16.00   \n",
       "3      93.30                  1    546.70        14.40       23.19   \n",
       "4      96.26                  1    904.20        14.09       24.14   \n",
       "5      93.92                  1    924.01        17.97       24.14   \n",
       "6      91.16                  1    911.96        16.05       24.14   \n",
       "7      69.74                  1    871.84        22.44       24.14   \n",
       "8      70.87                  1    822.53        26.12       24.14   \n",
       "9      96.31                  1    920.73        28.96       24.14   \n",
       "10     94.64                  1    932.25        16.00       24.14   \n",
       "11     89.80                  1    829.06        10.50       23.89   \n",
       "12     96.14                  0    942.28        13.00       24.14   \n",
       "13     88.06                  0    912.85        19.85       24.14   \n",
       "14     54.73                  0    922.94        21.98       24.14   \n",
       "\n",
       "    weatherCode  windDirection  windGust  windSpeed  \n",
       "0          1001         226.39      4.81       3.00  \n",
       "1          1001         258.73     11.18       5.51  \n",
       "2          1001         153.15      6.74       1.85  \n",
       "3          1001         242.15      9.65       3.21  \n",
       "4          1101         292.69      6.57       5.23  \n",
       "5          1001         190.49      3.96       3.96  \n",
       "6          1001         286.73      6.97       4.27  \n",
       "7          1001         227.25      2.93       2.44  \n",
       "8          1001         292.24      7.36       3.76  \n",
       "9          1000         244.56      5.62       3.63  \n",
       "10         1001         280.11     10.35       5.88  \n",
       "11         1100         282.98      9.53       5.12  \n",
       "12         1100         283.55      8.51       4.96  \n",
       "13         1100         295.49      4.43       3.52  \n",
       "14         1102         124.81      3.56       3.56  "
      ]
     },
     "execution_count": 20,
     "metadata": {},
     "output_type": "execute_result"
    }
   ],
   "source": [
    "intervals = lasvegas['data']['timelines'][0]['intervals']\n",
    "lasvegas_df = pd.DataFrame([x['values'] for x in intervals])\n",
    "lasvegas_df"
   ]
  },
  {
   "cell_type": "code",
   "execution_count": null,
   "id": "d02a6041",
   "metadata": {},
   "outputs": [],
   "source": [
    "lasvegas_df.to_csv()"
   ]
  },
  {
   "cell_type": "code",
   "execution_count": 11,
   "id": "aabca301",
   "metadata": {},
   "outputs": [],
   "source": [
    "weather_code_map = {0: 'Unknown',\n",
    "1000: 'Clear',\n",
    "1001: 'Cloudy',\n",
    "1100: 'Mostly Clear',\n",
    "1101: 'Partly Cloudy',\n",
    "1102: 'Mostly Cloudy',\n",
    "2000: 'Fog',\n",
    "2100: 'Light Fog',\n",
    "3000: 'Light Wind',\n",
    "3001: 'Wind',\n",
    "3002: 'Strong Wind',\n",
    "4000: 'Drizzle',\n",
    "4001: 'Rain',\n",
    "4200: 'Light Rain',\n",
    "4201: 'Heavy Rain',\n",
    "5000: 'Snow',\n",
    "5001: 'Flurries',\n",
    "5100: 'Light Snow',\n",
    "5101: 'Heavy Snow',\n",
    "6000: 'Freezing Drizzle',\n",
    "6001: 'Freezing Rain',\n",
    "6200: 'Light Freezing Rain',\n",
    "6201: 'Heavy Freezing Rain',\n",
    "7000: 'Ice Pellets',\n",
    "7101: 'Heavy Ice Pellets',\n",
    "7102: 'Light Ice Pellets',\n",
    "8000: 'Thunderstorm'}\n"
   ]
  },
  {
   "cell_type": "code",
   "execution_count": 14,
   "id": "0331d96d",
   "metadata": {},
   "outputs": [
    {
     "data": {
      "text/plain": [
       "dict_values(['Unknown', 'Clear', 'Cloudy', 'Mostly Clear', 'Partly Cloudy', 'Mostly Cloudy', 'Fog', 'Light Fog', 'Light Wind', 'Wind', 'Strong Wind', 'Drizzle', 'Rain', 'Light Rain', 'Heavy Rain', 'Snow', 'Flurries', 'Light Snow', 'Heavy Snow', 'Freezing Drizzle', 'Freezing Rain', 'Light Freezing Rain', 'Heavy Freezing Rain', 'Ice Pellets', 'Heavy Ice Pellets', 'Light Ice Pellets', 'Thunderstorm'])"
      ]
     },
     "execution_count": 14,
     "metadata": {},
     "output_type": "execute_result"
    }
   ],
   "source": [
    "weather_code_map.values()\n"
   ]
  },
  {
   "cell_type": "code",
   "execution_count": 19,
   "id": "0f0d28b8",
   "metadata": {},
   "outputs": [
    {
     "data": {
      "text/html": [
       "<div>\n",
       "<style scoped>\n",
       "    .dataframe tbody tr th:only-of-type {\n",
       "        vertical-align: middle;\n",
       "    }\n",
       "\n",
       "    .dataframe tbody tr th {\n",
       "        vertical-align: top;\n",
       "    }\n",
       "\n",
       "    .dataframe thead th {\n",
       "        text-align: right;\n",
       "    }\n",
       "</style>\n",
       "<table border=\"1\" class=\"dataframe\">\n",
       "  <thead>\n",
       "    <tr style=\"text-align: right;\">\n",
       "      <th></th>\n",
       "      <th>weatherCode</th>\n",
       "      <th>weatherType</th>\n",
       "    </tr>\n",
       "  </thead>\n",
       "  <tbody>\n",
       "    <tr>\n",
       "      <th>0</th>\n",
       "      <td>0</td>\n",
       "      <td>Unknown</td>\n",
       "    </tr>\n",
       "    <tr>\n",
       "      <th>1</th>\n",
       "      <td>1000</td>\n",
       "      <td>Clear</td>\n",
       "    </tr>\n",
       "    <tr>\n",
       "      <th>2</th>\n",
       "      <td>1001</td>\n",
       "      <td>Cloudy</td>\n",
       "    </tr>\n",
       "    <tr>\n",
       "      <th>3</th>\n",
       "      <td>1100</td>\n",
       "      <td>Mostly Clear</td>\n",
       "    </tr>\n",
       "    <tr>\n",
       "      <th>4</th>\n",
       "      <td>1101</td>\n",
       "      <td>Partly Cloudy</td>\n",
       "    </tr>\n",
       "    <tr>\n",
       "      <th>5</th>\n",
       "      <td>1102</td>\n",
       "      <td>Mostly Cloudy</td>\n",
       "    </tr>\n",
       "    <tr>\n",
       "      <th>6</th>\n",
       "      <td>2000</td>\n",
       "      <td>Fog</td>\n",
       "    </tr>\n",
       "    <tr>\n",
       "      <th>7</th>\n",
       "      <td>2100</td>\n",
       "      <td>Light Fog</td>\n",
       "    </tr>\n",
       "    <tr>\n",
       "      <th>8</th>\n",
       "      <td>3000</td>\n",
       "      <td>Light Wind</td>\n",
       "    </tr>\n",
       "    <tr>\n",
       "      <th>9</th>\n",
       "      <td>3001</td>\n",
       "      <td>Wind</td>\n",
       "    </tr>\n",
       "    <tr>\n",
       "      <th>10</th>\n",
       "      <td>3002</td>\n",
       "      <td>Strong Wind</td>\n",
       "    </tr>\n",
       "    <tr>\n",
       "      <th>11</th>\n",
       "      <td>4000</td>\n",
       "      <td>Drizzle</td>\n",
       "    </tr>\n",
       "    <tr>\n",
       "      <th>12</th>\n",
       "      <td>4001</td>\n",
       "      <td>Rain</td>\n",
       "    </tr>\n",
       "    <tr>\n",
       "      <th>13</th>\n",
       "      <td>4200</td>\n",
       "      <td>Light Rain</td>\n",
       "    </tr>\n",
       "    <tr>\n",
       "      <th>14</th>\n",
       "      <td>4201</td>\n",
       "      <td>Heavy Rain</td>\n",
       "    </tr>\n",
       "    <tr>\n",
       "      <th>15</th>\n",
       "      <td>5000</td>\n",
       "      <td>Snow</td>\n",
       "    </tr>\n",
       "    <tr>\n",
       "      <th>16</th>\n",
       "      <td>5001</td>\n",
       "      <td>Flurries</td>\n",
       "    </tr>\n",
       "    <tr>\n",
       "      <th>17</th>\n",
       "      <td>5100</td>\n",
       "      <td>Light Snow</td>\n",
       "    </tr>\n",
       "    <tr>\n",
       "      <th>18</th>\n",
       "      <td>5101</td>\n",
       "      <td>Heavy Snow</td>\n",
       "    </tr>\n",
       "    <tr>\n",
       "      <th>19</th>\n",
       "      <td>6000</td>\n",
       "      <td>Freezing Drizzle</td>\n",
       "    </tr>\n",
       "    <tr>\n",
       "      <th>20</th>\n",
       "      <td>6001</td>\n",
       "      <td>Freezing Rain</td>\n",
       "    </tr>\n",
       "    <tr>\n",
       "      <th>21</th>\n",
       "      <td>6200</td>\n",
       "      <td>Light Freezing Rain</td>\n",
       "    </tr>\n",
       "    <tr>\n",
       "      <th>22</th>\n",
       "      <td>6201</td>\n",
       "      <td>Heavy Freezing Rain</td>\n",
       "    </tr>\n",
       "    <tr>\n",
       "      <th>23</th>\n",
       "      <td>7000</td>\n",
       "      <td>Ice Pellets</td>\n",
       "    </tr>\n",
       "    <tr>\n",
       "      <th>24</th>\n",
       "      <td>7101</td>\n",
       "      <td>Heavy Ice Pellets</td>\n",
       "    </tr>\n",
       "    <tr>\n",
       "      <th>25</th>\n",
       "      <td>7102</td>\n",
       "      <td>Light Ice Pellets</td>\n",
       "    </tr>\n",
       "    <tr>\n",
       "      <th>26</th>\n",
       "      <td>8000</td>\n",
       "      <td>Thunderstorm</td>\n",
       "    </tr>\n",
       "  </tbody>\n",
       "</table>\n",
       "</div>"
      ],
      "text/plain": [
       "    weatherCode          weatherType\n",
       "0             0              Unknown\n",
       "1          1000                Clear\n",
       "2          1001               Cloudy\n",
       "3          1100         Mostly Clear\n",
       "4          1101        Partly Cloudy\n",
       "5          1102        Mostly Cloudy\n",
       "6          2000                  Fog\n",
       "7          2100            Light Fog\n",
       "8          3000           Light Wind\n",
       "9          3001                 Wind\n",
       "10         3002          Strong Wind\n",
       "11         4000              Drizzle\n",
       "12         4001                 Rain\n",
       "13         4200           Light Rain\n",
       "14         4201           Heavy Rain\n",
       "15         5000                 Snow\n",
       "16         5001             Flurries\n",
       "17         5100           Light Snow\n",
       "18         5101           Heavy Snow\n",
       "19         6000     Freezing Drizzle\n",
       "20         6001        Freezing Rain\n",
       "21         6200  Light Freezing Rain\n",
       "22         6201  Heavy Freezing Rain\n",
       "23         7000          Ice Pellets\n",
       "24         7101    Heavy Ice Pellets\n",
       "25         7102    Light Ice Pellets\n",
       "26         8000         Thunderstorm"
      ]
     },
     "execution_count": 19,
     "metadata": {},
     "output_type": "execute_result"
    }
   ],
   "source": [
    "weather_code = {\n",
    "  'weatherCode' :[0, 1000, 1001, 1100, 1101, 1102, 2000, 2100, 3000, 3001, 3002, 4000, 4001, 4200, 4201, 5000, 5001, 5100, 5101, 6000, 6001, 6200, 6201, 7000, 7101, 7102, 8000],\n",
    "  'weatherType':['Unknown', 'Clear', 'Cloudy', 'Mostly Clear', 'Partly Cloudy', 'Mostly Cloudy', 'Fog', 'Light Fog', 'Light Wind', 'Wind', 'Strong Wind', 'Drizzle', 'Rain', 'Light Rain', 'Heavy Rain', 'Snow', 'Flurries', 'Light Snow', 'Heavy Snow', 'Freezing Drizzle', 'Freezing Rain', 'Light Freezing Rain', 'Heavy Freezing Rain', 'Ice Pellets', 'Heavy Ice Pellets', 'Light Ice Pellets', 'Thunderstorm']\n",
    "\n",
    "}\n",
    "df = pd.DataFrame(weather_code)\n",
    "df  \n"
   ]
  },
  {
   "cell_type": "code",
   "execution_count": 12,
   "id": "afbb2b39",
   "metadata": {},
   "outputs": [
    {
     "data": {
      "text/plain": [
       "['Clear',\n",
       " 'Cloudy',\n",
       " 'Cloudy',\n",
       " 'Cloudy',\n",
       " 'Clear',\n",
       " 'Mostly Clear',\n",
       " 'Mostly Clear',\n",
       " 'Clear',\n",
       " 'Clear',\n",
       " 'Clear',\n",
       " 'Clear',\n",
       " 'Clear',\n",
       " 'Clear',\n",
       " 'Clear',\n",
       " 'Clear']"
      ]
     },
     "execution_count": 12,
     "metadata": {},
     "output_type": "execute_result"
    }
   ],
   "source": [
    "[weather_code_map[x] for x in washington_df['weatherCode']]"
   ]
  },
  {
   "cell_type": "code",
   "execution_count": 13,
   "id": "00fdd7a1",
   "metadata": {},
   "outputs": [
    {
     "data": {
      "text/plain": [
       "0     1000\n",
       "1     1001\n",
       "2     1001\n",
       "3     1001\n",
       "4     1000\n",
       "5     1100\n",
       "6     1100\n",
       "7     1000\n",
       "8     1000\n",
       "9     1000\n",
       "10    1000\n",
       "11    1000\n",
       "12    1000\n",
       "13    1000\n",
       "14    1000\n",
       "Name: weatherCode, dtype: int64"
      ]
     },
     "execution_count": 13,
     "metadata": {},
     "output_type": "execute_result"
    }
   ],
   "source": [
    "washington_df['weatherCode']"
   ]
  },
  {
   "cell_type": "code",
   "execution_count": 14,
   "id": "3815cfb4",
   "metadata": {},
   "outputs": [
    {
     "data": {
      "text/plain": [
       "{0: 'Unknown',\n",
       " 1000: 'Clear',\n",
       " 1001: 'Cloudy',\n",
       " 1100: 'Mostly Clear',\n",
       " 1101: 'Partly Cloudy',\n",
       " 1102: 'Mostly Cloudy',\n",
       " 2000: 'Fog',\n",
       " 2100: 'Light Fog',\n",
       " 3000: 'Light Wind',\n",
       " 3001: 'Wind',\n",
       " 3002: 'Strong Wind',\n",
       " 4000: 'Drizzle',\n",
       " 4001: 'Rain',\n",
       " 4200: 'Light Rain',\n",
       " 4201: 'Heavy Rain',\n",
       " 5000: 'Snow',\n",
       " 5001: 'Flurries',\n",
       " 5100: 'Light Snow',\n",
       " 5101: 'Heavy Snow',\n",
       " 6000: 'Freezing Drizzle',\n",
       " 6001: 'Freezing Rain',\n",
       " 6200: 'Light Freezing Rain',\n",
       " 6201: 'Heavy Freezing Rain',\n",
       " 7000: 'Ice Pellets',\n",
       " 7101: 'Heavy Ice Pellets',\n",
       " 7102: 'Light Ice Pellets',\n",
       " 8000: 'Thunderstorm'}"
      ]
     },
     "execution_count": 14,
     "metadata": {},
     "output_type": "execute_result"
    }
   ],
   "source": [
    "weather_code_map"
   ]
  },
  {
   "cell_type": "code",
   "execution_count": 15,
   "id": "249f1c3f",
   "metadata": {},
   "outputs": [],
   "source": [
    "washington_df['weatherCode'] = [weather_code_map[x] for x in washington_df['weatherCode']]"
   ]
  },
  {
   "cell_type": "code",
   "execution_count": 16,
   "id": "2b0d3924",
   "metadata": {},
   "outputs": [
    {
     "data": {
      "text/plain": [
       "0            Clear\n",
       "1           Cloudy\n",
       "2           Cloudy\n",
       "3           Cloudy\n",
       "4            Clear\n",
       "5     Mostly Clear\n",
       "6     Mostly Clear\n",
       "7            Clear\n",
       "8            Clear\n",
       "9            Clear\n",
       "10           Clear\n",
       "11           Clear\n",
       "12           Clear\n",
       "13           Clear\n",
       "14           Clear\n",
       "Name: weatherCode, dtype: object"
      ]
     },
     "execution_count": 16,
     "metadata": {},
     "output_type": "execute_result"
    }
   ],
   "source": [
    "washington_df['weatherCode']"
   ]
  },
  {
   "cell_type": "code",
   "execution_count": 17,
   "id": "a3626c24",
   "metadata": {},
   "outputs": [],
   "source": [
    "lasvegas_df['weatherCode'] = [weather_code_map[x] for x in lasvegas_df['weatherCode']]"
   ]
  },
  {
   "cell_type": "code",
   "execution_count": 18,
   "id": "61a1be25",
   "metadata": {},
   "outputs": [
    {
     "data": {
      "text/html": [
       "<div>\n",
       "<style scoped>\n",
       "    .dataframe tbody tr th:only-of-type {\n",
       "        vertical-align: middle;\n",
       "    }\n",
       "\n",
       "    .dataframe tbody tr th {\n",
       "        vertical-align: top;\n",
       "    }\n",
       "\n",
       "    .dataframe thead th {\n",
       "        text-align: right;\n",
       "    }\n",
       "</style>\n",
       "<table border=\"1\" class=\"dataframe\">\n",
       "  <thead>\n",
       "    <tr style=\"text-align: right;\">\n",
       "      <th></th>\n",
       "      <th>humidity</th>\n",
       "      <th>precipitationType</th>\n",
       "      <th>solarGHI</th>\n",
       "      <th>temperature</th>\n",
       "      <th>visibility</th>\n",
       "      <th>weatherCode</th>\n",
       "      <th>windDirection</th>\n",
       "      <th>windGust</th>\n",
       "      <th>windSpeed</th>\n",
       "    </tr>\n",
       "  </thead>\n",
       "  <tbody>\n",
       "    <tr>\n",
       "      <th>0</th>\n",
       "      <td>77.00</td>\n",
       "      <td>1</td>\n",
       "      <td>496.50</td>\n",
       "      <td>21.38</td>\n",
       "      <td>16.00</td>\n",
       "      <td>Cloudy</td>\n",
       "      <td>226.39</td>\n",
       "      <td>4.81</td>\n",
       "      <td>3.00</td>\n",
       "    </tr>\n",
       "    <tr>\n",
       "      <th>1</th>\n",
       "      <td>99.50</td>\n",
       "      <td>1</td>\n",
       "      <td>766.88</td>\n",
       "      <td>15.96</td>\n",
       "      <td>16.00</td>\n",
       "      <td>Cloudy</td>\n",
       "      <td>258.73</td>\n",
       "      <td>11.18</td>\n",
       "      <td>5.51</td>\n",
       "    </tr>\n",
       "    <tr>\n",
       "      <th>2</th>\n",
       "      <td>94.40</td>\n",
       "      <td>1</td>\n",
       "      <td>646.26</td>\n",
       "      <td>16.09</td>\n",
       "      <td>16.00</td>\n",
       "      <td>Cloudy</td>\n",
       "      <td>153.15</td>\n",
       "      <td>6.74</td>\n",
       "      <td>1.85</td>\n",
       "    </tr>\n",
       "    <tr>\n",
       "      <th>3</th>\n",
       "      <td>93.30</td>\n",
       "      <td>1</td>\n",
       "      <td>546.70</td>\n",
       "      <td>14.40</td>\n",
       "      <td>23.19</td>\n",
       "      <td>Cloudy</td>\n",
       "      <td>242.15</td>\n",
       "      <td>9.65</td>\n",
       "      <td>3.21</td>\n",
       "    </tr>\n",
       "    <tr>\n",
       "      <th>4</th>\n",
       "      <td>96.26</td>\n",
       "      <td>1</td>\n",
       "      <td>904.20</td>\n",
       "      <td>14.09</td>\n",
       "      <td>24.14</td>\n",
       "      <td>Partly Cloudy</td>\n",
       "      <td>292.69</td>\n",
       "      <td>6.57</td>\n",
       "      <td>5.23</td>\n",
       "    </tr>\n",
       "    <tr>\n",
       "      <th>5</th>\n",
       "      <td>93.92</td>\n",
       "      <td>1</td>\n",
       "      <td>924.01</td>\n",
       "      <td>17.97</td>\n",
       "      <td>24.14</td>\n",
       "      <td>Cloudy</td>\n",
       "      <td>190.49</td>\n",
       "      <td>3.96</td>\n",
       "      <td>3.96</td>\n",
       "    </tr>\n",
       "    <tr>\n",
       "      <th>6</th>\n",
       "      <td>91.16</td>\n",
       "      <td>1</td>\n",
       "      <td>911.96</td>\n",
       "      <td>16.05</td>\n",
       "      <td>24.14</td>\n",
       "      <td>Cloudy</td>\n",
       "      <td>286.73</td>\n",
       "      <td>6.97</td>\n",
       "      <td>4.27</td>\n",
       "    </tr>\n",
       "    <tr>\n",
       "      <th>7</th>\n",
       "      <td>69.74</td>\n",
       "      <td>1</td>\n",
       "      <td>871.84</td>\n",
       "      <td>22.44</td>\n",
       "      <td>24.14</td>\n",
       "      <td>Cloudy</td>\n",
       "      <td>227.25</td>\n",
       "      <td>2.93</td>\n",
       "      <td>2.44</td>\n",
       "    </tr>\n",
       "    <tr>\n",
       "      <th>8</th>\n",
       "      <td>70.87</td>\n",
       "      <td>1</td>\n",
       "      <td>822.53</td>\n",
       "      <td>26.12</td>\n",
       "      <td>24.14</td>\n",
       "      <td>Cloudy</td>\n",
       "      <td>292.24</td>\n",
       "      <td>7.36</td>\n",
       "      <td>3.76</td>\n",
       "    </tr>\n",
       "    <tr>\n",
       "      <th>9</th>\n",
       "      <td>96.31</td>\n",
       "      <td>1</td>\n",
       "      <td>920.73</td>\n",
       "      <td>28.96</td>\n",
       "      <td>24.14</td>\n",
       "      <td>Clear</td>\n",
       "      <td>244.56</td>\n",
       "      <td>5.62</td>\n",
       "      <td>3.63</td>\n",
       "    </tr>\n",
       "    <tr>\n",
       "      <th>10</th>\n",
       "      <td>94.64</td>\n",
       "      <td>1</td>\n",
       "      <td>932.25</td>\n",
       "      <td>16.00</td>\n",
       "      <td>24.14</td>\n",
       "      <td>Cloudy</td>\n",
       "      <td>280.11</td>\n",
       "      <td>10.35</td>\n",
       "      <td>5.88</td>\n",
       "    </tr>\n",
       "    <tr>\n",
       "      <th>11</th>\n",
       "      <td>89.80</td>\n",
       "      <td>1</td>\n",
       "      <td>829.06</td>\n",
       "      <td>10.50</td>\n",
       "      <td>23.89</td>\n",
       "      <td>Mostly Clear</td>\n",
       "      <td>282.98</td>\n",
       "      <td>9.53</td>\n",
       "      <td>5.12</td>\n",
       "    </tr>\n",
       "    <tr>\n",
       "      <th>12</th>\n",
       "      <td>96.14</td>\n",
       "      <td>0</td>\n",
       "      <td>942.28</td>\n",
       "      <td>13.00</td>\n",
       "      <td>24.14</td>\n",
       "      <td>Mostly Clear</td>\n",
       "      <td>283.55</td>\n",
       "      <td>8.51</td>\n",
       "      <td>4.96</td>\n",
       "    </tr>\n",
       "    <tr>\n",
       "      <th>13</th>\n",
       "      <td>88.06</td>\n",
       "      <td>0</td>\n",
       "      <td>912.85</td>\n",
       "      <td>19.85</td>\n",
       "      <td>24.14</td>\n",
       "      <td>Mostly Clear</td>\n",
       "      <td>295.49</td>\n",
       "      <td>4.43</td>\n",
       "      <td>3.52</td>\n",
       "    </tr>\n",
       "    <tr>\n",
       "      <th>14</th>\n",
       "      <td>54.73</td>\n",
       "      <td>0</td>\n",
       "      <td>922.94</td>\n",
       "      <td>21.98</td>\n",
       "      <td>24.14</td>\n",
       "      <td>Mostly Cloudy</td>\n",
       "      <td>124.81</td>\n",
       "      <td>3.56</td>\n",
       "      <td>3.56</td>\n",
       "    </tr>\n",
       "  </tbody>\n",
       "</table>\n",
       "</div>"
      ],
      "text/plain": [
       "    humidity  precipitationType  solarGHI  temperature  visibility  \\\n",
       "0      77.00                  1    496.50        21.38       16.00   \n",
       "1      99.50                  1    766.88        15.96       16.00   \n",
       "2      94.40                  1    646.26        16.09       16.00   \n",
       "3      93.30                  1    546.70        14.40       23.19   \n",
       "4      96.26                  1    904.20        14.09       24.14   \n",
       "5      93.92                  1    924.01        17.97       24.14   \n",
       "6      91.16                  1    911.96        16.05       24.14   \n",
       "7      69.74                  1    871.84        22.44       24.14   \n",
       "8      70.87                  1    822.53        26.12       24.14   \n",
       "9      96.31                  1    920.73        28.96       24.14   \n",
       "10     94.64                  1    932.25        16.00       24.14   \n",
       "11     89.80                  1    829.06        10.50       23.89   \n",
       "12     96.14                  0    942.28        13.00       24.14   \n",
       "13     88.06                  0    912.85        19.85       24.14   \n",
       "14     54.73                  0    922.94        21.98       24.14   \n",
       "\n",
       "      weatherCode  windDirection  windGust  windSpeed  \n",
       "0          Cloudy         226.39      4.81       3.00  \n",
       "1          Cloudy         258.73     11.18       5.51  \n",
       "2          Cloudy         153.15      6.74       1.85  \n",
       "3          Cloudy         242.15      9.65       3.21  \n",
       "4   Partly Cloudy         292.69      6.57       5.23  \n",
       "5          Cloudy         190.49      3.96       3.96  \n",
       "6          Cloudy         286.73      6.97       4.27  \n",
       "7          Cloudy         227.25      2.93       2.44  \n",
       "8          Cloudy         292.24      7.36       3.76  \n",
       "9           Clear         244.56      5.62       3.63  \n",
       "10         Cloudy         280.11     10.35       5.88  \n",
       "11   Mostly Clear         282.98      9.53       5.12  \n",
       "12   Mostly Clear         283.55      8.51       4.96  \n",
       "13   Mostly Clear         295.49      4.43       3.52  \n",
       "14  Mostly Cloudy         124.81      3.56       3.56  "
      ]
     },
     "execution_count": 18,
     "metadata": {},
     "output_type": "execute_result"
    }
   ],
   "source": [
    "lasvegas_df"
   ]
  },
  {
   "cell_type": "code",
   "execution_count": 19,
   "id": "1a8fb4a0",
   "metadata": {},
   "outputs": [
    {
     "ename": "AttributeError",
     "evalue": "'DataFrame' object has no attribute 'to_txt'",
     "output_type": "error",
     "traceback": [
      "\u001b[1;31m---------------------------------------------------------------------------\u001b[0m",
      "\u001b[1;31mAttributeError\u001b[0m                            Traceback (most recent call last)",
      "Input \u001b[1;32mIn [19]\u001b[0m, in \u001b[0;36m<cell line: 1>\u001b[1;34m()\u001b[0m\n\u001b[1;32m----> 1\u001b[0m \u001b[43mlasvegas_df\u001b[49m\u001b[38;5;241;43m.\u001b[39;49m\u001b[43mto_txt\u001b[49m(\u001b[38;5;124m'\u001b[39m\u001b[38;5;124ml.txt\u001b[39m\u001b[38;5;124m'\u001b[39m)\n",
      "File \u001b[1;32m~\\anaconda3\\lib\\site-packages\\pandas\\core\\generic.py:5575\u001b[0m, in \u001b[0;36mNDFrame.__getattr__\u001b[1;34m(self, name)\u001b[0m\n\u001b[0;32m   5568\u001b[0m \u001b[38;5;28;01mif\u001b[39;00m (\n\u001b[0;32m   5569\u001b[0m     name \u001b[38;5;129;01mnot\u001b[39;00m \u001b[38;5;129;01min\u001b[39;00m \u001b[38;5;28mself\u001b[39m\u001b[38;5;241m.\u001b[39m_internal_names_set\n\u001b[0;32m   5570\u001b[0m     \u001b[38;5;129;01mand\u001b[39;00m name \u001b[38;5;129;01mnot\u001b[39;00m \u001b[38;5;129;01min\u001b[39;00m \u001b[38;5;28mself\u001b[39m\u001b[38;5;241m.\u001b[39m_metadata\n\u001b[0;32m   5571\u001b[0m     \u001b[38;5;129;01mand\u001b[39;00m name \u001b[38;5;129;01mnot\u001b[39;00m \u001b[38;5;129;01min\u001b[39;00m \u001b[38;5;28mself\u001b[39m\u001b[38;5;241m.\u001b[39m_accessors\n\u001b[0;32m   5572\u001b[0m     \u001b[38;5;129;01mand\u001b[39;00m \u001b[38;5;28mself\u001b[39m\u001b[38;5;241m.\u001b[39m_info_axis\u001b[38;5;241m.\u001b[39m_can_hold_identifiers_and_holds_name(name)\n\u001b[0;32m   5573\u001b[0m ):\n\u001b[0;32m   5574\u001b[0m     \u001b[38;5;28;01mreturn\u001b[39;00m \u001b[38;5;28mself\u001b[39m[name]\n\u001b[1;32m-> 5575\u001b[0m \u001b[38;5;28;01mreturn\u001b[39;00m \u001b[38;5;28;43mobject\u001b[39;49m\u001b[38;5;241;43m.\u001b[39;49m\u001b[38;5;21;43m__getattribute__\u001b[39;49m\u001b[43m(\u001b[49m\u001b[38;5;28;43mself\u001b[39;49m\u001b[43m,\u001b[49m\u001b[43m \u001b[49m\u001b[43mname\u001b[49m\u001b[43m)\u001b[49m\n",
      "\u001b[1;31mAttributeError\u001b[0m: 'DataFrame' object has no attribute 'to_txt'"
     ]
    }
   ],
   "source": [
    "lasvegas_df.to_txt('l.txt')"
   ]
  },
  {
   "cell_type": "code",
   "execution_count": null,
   "id": "c8d5cbb4",
   "metadata": {},
   "outputs": [],
   "source": [
    "washington_df.describe()"
   ]
  },
  {
   "cell_type": "code",
   "execution_count": 43,
   "id": "2f4f139d",
   "metadata": {},
   "outputs": [
    {
     "data": {
      "text/html": [
       "<div>\n",
       "<style scoped>\n",
       "    .dataframe tbody tr th:only-of-type {\n",
       "        vertical-align: middle;\n",
       "    }\n",
       "\n",
       "    .dataframe tbody tr th {\n",
       "        vertical-align: top;\n",
       "    }\n",
       "\n",
       "    .dataframe thead th {\n",
       "        text-align: right;\n",
       "    }\n",
       "</style>\n",
       "<table border=\"1\" class=\"dataframe\">\n",
       "  <thead>\n",
       "    <tr style=\"text-align: right;\">\n",
       "      <th></th>\n",
       "      <th>humidity</th>\n",
       "      <th>precipitationType</th>\n",
       "      <th>solarGHI</th>\n",
       "      <th>temperature</th>\n",
       "      <th>visibility</th>\n",
       "      <th>weatherCode</th>\n",
       "      <th>windDirection</th>\n",
       "      <th>windGust</th>\n",
       "      <th>windSpeed</th>\n",
       "    </tr>\n",
       "  </thead>\n",
       "  <tbody>\n",
       "    <tr>\n",
       "      <th>1</th>\n",
       "      <td>30.71</td>\n",
       "      <td>0</td>\n",
       "      <td>1034.39</td>\n",
       "      <td>37.12</td>\n",
       "      <td>16.00</td>\n",
       "      <td>Cloudy</td>\n",
       "      <td>210.84</td>\n",
       "      <td>12.82</td>\n",
       "      <td>7.95</td>\n",
       "    </tr>\n",
       "    <tr>\n",
       "      <th>2</th>\n",
       "      <td>28.18</td>\n",
       "      <td>0</td>\n",
       "      <td>922.74</td>\n",
       "      <td>33.73</td>\n",
       "      <td>16.00</td>\n",
       "      <td>Cloudy</td>\n",
       "      <td>214.16</td>\n",
       "      <td>14.29</td>\n",
       "      <td>8.94</td>\n",
       "    </tr>\n",
       "    <tr>\n",
       "      <th>3</th>\n",
       "      <td>36.16</td>\n",
       "      <td>0</td>\n",
       "      <td>960.28</td>\n",
       "      <td>37.66</td>\n",
       "      <td>23.46</td>\n",
       "      <td>Cloudy</td>\n",
       "      <td>177.05</td>\n",
       "      <td>10.57</td>\n",
       "      <td>7.20</td>\n",
       "    </tr>\n",
       "  </tbody>\n",
       "</table>\n",
       "</div>"
      ],
      "text/plain": [
       "   humidity  precipitationType  solarGHI  temperature  visibility weatherCode  \\\n",
       "1     30.71                  0   1034.39        37.12       16.00      Cloudy   \n",
       "2     28.18                  0    922.74        33.73       16.00      Cloudy   \n",
       "3     36.16                  0    960.28        37.66       23.46      Cloudy   \n",
       "\n",
       "   windDirection  windGust  windSpeed  \n",
       "1         210.84     12.82       7.95  \n",
       "2         214.16     14.29       8.94  \n",
       "3         177.05     10.57       7.20  "
      ]
     },
     "execution_count": 43,
     "metadata": {},
     "output_type": "execute_result"
    }
   ],
   "source": [
    "washington_df[washington_df['weatherCode']=='Cloudy']"
   ]
  },
  {
   "cell_type": "code",
   "execution_count": 44,
   "id": "a528db1a",
   "metadata": {},
   "outputs": [
    {
     "data": {
      "text/plain": [
       "Cloudy           9\n",
       "Mostly Clear     3\n",
       "Partly Cloudy    1\n",
       "Clear            1\n",
       "Mostly Cloudy    1\n",
       "Name: weatherCode, dtype: int64"
      ]
     },
     "execution_count": 44,
     "metadata": {},
     "output_type": "execute_result"
    }
   ],
   "source": [
    "lasvegas_df['weatherCode'].value_counts()"
   ]
  },
  {
   "cell_type": "code",
   "execution_count": 45,
   "id": "21161989",
   "metadata": {},
   "outputs": [
    {
     "data": {
      "text/plain": [
       "Clear           10\n",
       "Cloudy           3\n",
       "Mostly Clear     2\n",
       "Name: weatherCode, dtype: int64"
      ]
     },
     "execution_count": 45,
     "metadata": {},
     "output_type": "execute_result"
    }
   ],
   "source": [
    "washington_df['weatherCode'].value_counts()"
   ]
  },
  {
   "cell_type": "code",
   "execution_count": 47,
   "id": "340e82a8",
   "metadata": {},
   "outputs": [],
   "source": [
    "import matplotlib.pyplot as plt"
   ]
  },
  {
   "cell_type": "code",
   "execution_count": 60,
   "id": "aee33808",
   "metadata": {},
   "outputs": [
    {
     "data": {
      "text/plain": [
       "<AxesSubplot:xlabel='Day', ylabel='Temperature'>"
      ]
     },
     "execution_count": 60,
     "metadata": {},
     "output_type": "execute_result"
    },
    {
     "data": {
      "image/png": "[encoded data removed]",
      "text/plain": [
       "<Figure size 432x288 with 1 Axes>"
      ]
     },
     "metadata": {
      "needs_background": "light"
     },
     "output_type": "display_data"
    }
   ],
   "source": [
    "washington_df['temperature'].plot.bar(xlabel='Day', ylabel='Temperature', color ='maroon', width = 0.4)"
   ]
  },
  {
   "cell_type": "code",
   "execution_count": 61,
   "id": "288e9939",
   "metadata": {},
   "outputs": [],
   "source": [
    "barplot = pd.DataFrame({'Washington': washington_df['temperature'], 'LasVegas': lasvegas_df['temperature']}, index=indexes)"
   ]
  },
  {
   "cell_type": "code",
   "execution_count": 65,
   "id": "6eabbafb",
   "metadata": {},
   "outputs": [
    {
     "data": {
      "text/plain": [
       "<AxesSubplot:>"
      ]
     },
     "execution_count": 65,
     "metadata": {},
     "output_type": "execute_result"
    },
    {
     "data": {
      "image/png": "[encoded data removed]",
      "text/plain": [
       "<Figure size 432x288 with 1 Axes>"
      ]
     },
     "metadata": {
      "needs_background": "light"
     },
     "output_type": "display_data"
    }
   ],
   "source": [
    "barplot.plot.bar(width=0.4)"
   ]
  },
  {
   "cell_type": "code",
   "execution_count": 67,
   "id": "35e55d1a",
   "metadata": {},
   "outputs": [
    {
     "data": {
      "text/plain": [
       "{'Clear': 10, 'Cloudy': 3, 'Mostly Clear': 2}"
      ]
     },
     "execution_count": 67,
     "metadata": {},
     "output_type": "execute_result"
    }
   ],
   "source": [
    "weather = dict(washington_df['weatherCode'].value_counts())\n",
    "weather"
   ]
  },
  {
   "cell_type": "code",
   "execution_count": 68,
   "id": "a0aafdce",
   "metadata": {},
   "outputs": [],
   "source": [
    "series = pd.Series(weather.values(), index=weather.keys(), name=\"Weather\")"
   ]
  },
  {
   "cell_type": "code",
   "execution_count": 69,
   "id": "c853d09a",
   "metadata": {},
   "outputs": [
    {
     "data": {
      "text/plain": [
       "Clear           10\n",
       "Cloudy           3\n",
       "Mostly Clear     2\n",
       "Name: Weather, dtype: int64"
      ]
     },
     "execution_count": 69,
     "metadata": {},
     "output_type": "execute_result"
    }
   ],
   "source": [
    "series"
   ]
  },
  {
   "cell_type": "code",
   "execution_count": 70,
   "id": "d29476de",
   "metadata": {},
   "outputs": [
    {
     "data": {
      "text/plain": [
       "<AxesSubplot:ylabel='Weather'>"
      ]
     },
     "execution_count": 70,
     "metadata": {},
     "output_type": "execute_result"
    },
    {
     "data": {
      "image/png": "[encoded data removed]",
      "text/plain": [
       "<Figure size 432x432 with 1 Axes>"
      ]
     },
     "metadata": {},
     "output_type": "display_data"
    }
   ],
   "source": [
    "series.plot.pie(figsize=(6, 6))"
   ]
  },
  {
   "cell_type": "code",
   "execution_count": 78,
   "id": "7d98f15a",
   "metadata": {},
   "outputs": [],
   "source": [
    "lasvegas_weather = lasvegas_df.groupby('weatherCode')"
   ]
  },
  {
   "cell_type": "code",
   "execution_count": 88,
   "id": "28b4a80e",
   "metadata": {},
   "outputs": [],
   "source": [
    "lasvegas_weather_temperature = lasvegas_weather.mean()['temperature']"
   ]
  },
  {
   "cell_type": "code",
   "execution_count": 89,
   "id": "26159efe",
   "metadata": {},
   "outputs": [
    {
     "data": {
      "text/plain": [
       "<AxesSubplot:xlabel='weatherCode'>"
      ]
     },
     "execution_count": 89,
     "metadata": {},
     "output_type": "execute_result"
    },
    {
     "data": {
      "image/png": "[encoded data removed]",
      "text/plain": [
       "<Figure size 432x288 with 1 Axes>"
      ]
     },
     "metadata": {
      "needs_background": "light"
     },
     "output_type": "display_data"
    }
   ],
   "source": [
    "lasvegas_weather_temperature.plot()"
   ]
  },
  {
   "cell_type": "code",
   "execution_count": 90,
   "id": "60426013",
   "metadata": {},
   "outputs": [
    {
     "data": {
      "text/plain": [
       "weatherCode\n",
       "Clear            28.96\n",
       "Cloudy           18.49\n",
       "Mostly Clear     14.45\n",
       "Mostly Cloudy    21.98\n",
       "Partly Cloudy    14.09\n",
       "Name: temperature, dtype: float64"
      ]
     },
     "execution_count": 90,
     "metadata": {},
     "output_type": "execute_result"
    }
   ],
   "source": [
    "lasvegas_weather_temperature "
   ]
  },
  {
   "cell_type": "code",
   "execution_count": 92,
   "id": "94692671",
   "metadata": {},
   "outputs": [],
   "source": [
    "washington_weather = washington_df.groupby('weatherCode')"
   ]
  },
  {
   "cell_type": "code",
   "execution_count": 96,
   "id": "7961be06",
   "metadata": {},
   "outputs": [],
   "source": [
    "washington_weather_temperature = washington_weather.mean()['temperature']"
   ]
  },
  {
   "cell_type": "code",
   "execution_count": 97,
   "id": "77681676",
   "metadata": {},
   "outputs": [
    {
     "data": {
      "text/plain": [
       "<AxesSubplot:xlabel='weatherCode'>"
      ]
     },
     "execution_count": 97,
     "metadata": {},
     "output_type": "execute_result"
    },
    {
     "data": {
      "image/png": "[encoded data removed]",
      "text/plain": [
       "<Figure size 432x288 with 1 Axes>"
      ]
     },
     "metadata": {
      "needs_background": "light"
     },
     "output_type": "display_data"
    }
   ],
   "source": [
    "washington_weather_temperature.plot()"
   ]
  },
  {
   "cell_type": "code",
   "execution_count": 109,
   "id": "87bd1caf",
   "metadata": {},
   "outputs": [
    {
     "data": {
      "text/plain": [
       "['Clear', 'Cloudy', 'Mostly Clear', 'Mostly Cloudy', 'Partly Cloudy']"
      ]
     },
     "execution_count": 109,
     "metadata": {},
     "output_type": "execute_result"
    }
   ],
   "source": [
    "weather = [weather for weather,df in lasvegas_weather]\n",
    "weather"
   ]
  },
  {
   "cell_type": "code",
   "execution_count": 111,
   "id": "0d1546cc",
   "metadata": {},
   "outputs": [
    {
     "data": {
      "text/plain": [
       "weatherCode\n",
       "Clear            28.96\n",
       "Cloudy           18.49\n",
       "Mostly Clear     14.45\n",
       "Mostly Cloudy    21.98\n",
       "Partly Cloudy    14.09\n",
       "Name: temperature, dtype: float64"
      ]
     },
     "execution_count": 111,
     "metadata": {},
     "output_type": "execute_result"
    }
   ],
   "source": [
    "lasvegas_weather_temperature"
   ]
  },
  {
   "cell_type": "code",
   "execution_count": 113,
   "id": "09408ad8",
   "metadata": {},
   "outputs": [
    {
     "data": {
      "text/plain": [
       "[<matplotlib.lines.Line2D at 0x28753db1f70>]"
      ]
     },
     "execution_count": 113,
     "metadata": {},
     "output_type": "execute_result"
    },
    {
     "data": {
      "image/png": "[encoded data removed]",
      "text/plain": [
       "<Figure size 432x288 with 1 Axes>"
      ]
     },
     "metadata": {
      "needs_background": "light"
     },
     "output_type": "display_data"
    }
   ],
   "source": [
    "plt.plot(weather,lasvegas_weather_temperature)"
   ]
  },
  {
   "cell_type": "code",
   "execution_count": 117,
   "id": "837fe57c",
   "metadata": {},
   "outputs": [
    {
     "data": {
      "text/plain": [
       "weatherCode\n",
       "Clear            96.310000\n",
       "Cloudy           87.170000\n",
       "Mostly Clear     91.333333\n",
       "Mostly Cloudy    54.730000\n",
       "Partly Cloudy    96.260000\n",
       "Name: humidity, dtype: float64"
      ]
     },
     "execution_count": 117,
     "metadata": {},
     "output_type": "execute_result"
    }
   ],
   "source": [
    "lasvegas_weather_humidity = lasvegas_weather.mean()['humidity']\n",
    "lasvegas_weather_humidity"
   ]
  },
  {
   "cell_type": "code",
   "execution_count": 122,
   "id": "ee201bf2",
   "metadata": {},
   "outputs": [
    {
     "name": "stderr",
     "output_type": "stream",
     "text": [
      "C:\\Users\\user\\AppData\\Local\\Temp\\ipykernel_9268\\4174440795.py:9: UserWarning: FixedFormatter should only be used together with FixedLocator\n",
      "  ax1.set_xticklabels(weather,rotation='vertical',size=8)\n"
     ]
    },
    {
     "data": {
      "image/png": "[encoded data removed]",
      "text/plain": [
       "<Figure size 432x288 with 2 Axes>"
      ]
     },
     "metadata": {
      "needs_background": "light"
     },
     "output_type": "display_data"
    }
   ],
   "source": [
    "fig, ax1 = plt.subplots()\n",
    "ax2 = ax1.twinx()\n",
    "ax1.bar(weather,lasvegas_weather_temperature,color='g' )\n",
    "ax2.plot(weather,lasvegas_weather_humidity,'b-')\n",
    "ax1.set_xlabel('Lasvegas Weather Condition')\n",
    "ax1.set_ylabel('Temperature',color ='g')\n",
    "ax2.set_ylabel('Humidity',color='b')\n",
    "\n",
    "ax1.set_xticklabels(weather,rotation='vertical',size=8)\n",
    "plt.show()\n"
   ]
  },
  {
   "cell_type": "code",
   "execution_count": null,
   "id": "3fb3edc2",
   "metadata": {},
   "outputs": [],
   "source": []
  },
  {
   "cell_type": "code",
   "execution_count": null,
   "id": "35f98e84",
   "metadata": {},
   "outputs": [],
   "source": []
  }
 ],
 "metadata": {
  "kernelspec": {
   "display_name": "Python 3 (ipykernel)",
   "language": "python",
   "name": "python3"
  },
  "language_info": {
   "codemirror_mode": {
    "name": "ipython",
    "version": 3
   },
   "file_extension": ".py",
   "mimetype": "text/x-python",
   "name": "python",
   "nbconvert_exporter": "python",
   "pygments_lexer": "ipython3",
   "version": "3.9.12"
  }
 },
 "nbformat": 4,
 "nbformat_minor": 5
}
